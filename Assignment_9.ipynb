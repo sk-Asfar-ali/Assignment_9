{
 "cells": [
  {
   "cell_type": "code",
   "execution_count": 7,
   "id": "2e2c9d05",
   "metadata": {},
   "outputs": [],
   "source": [
    "import pandas as pd"
   ]
  },
  {
   "cell_type": "code",
   "execution_count": 8,
   "id": "1fa7b8e7",
   "metadata": {},
   "outputs": [
    {
     "data": {
      "text/html": [
       "<div>\n",
       "<style scoped>\n",
       "    .dataframe tbody tr th:only-of-type {\n",
       "        vertical-align: middle;\n",
       "    }\n",
       "\n",
       "    .dataframe tbody tr th {\n",
       "        vertical-align: top;\n",
       "    }\n",
       "\n",
       "    .dataframe thead th {\n",
       "        text-align: right;\n",
       "    }\n",
       "</style>\n",
       "<table border=\"1\" class=\"dataframe\">\n",
       "  <thead>\n",
       "    <tr style=\"text-align: right;\">\n",
       "      <th></th>\n",
       "      <th>day</th>\n",
       "      <th>outlook</th>\n",
       "      <th>temp</th>\n",
       "      <th>humidity</th>\n",
       "      <th>wind</th>\n",
       "      <th>play</th>\n",
       "    </tr>\n",
       "  </thead>\n",
       "  <tbody>\n",
       "    <tr>\n",
       "      <th>0</th>\n",
       "      <td>D1</td>\n",
       "      <td>Sunny</td>\n",
       "      <td>Hot</td>\n",
       "      <td>High</td>\n",
       "      <td>Weak</td>\n",
       "      <td>No</td>\n",
       "    </tr>\n",
       "    <tr>\n",
       "      <th>1</th>\n",
       "      <td>D2</td>\n",
       "      <td>Sunny</td>\n",
       "      <td>Hot</td>\n",
       "      <td>High</td>\n",
       "      <td>Strong</td>\n",
       "      <td>No</td>\n",
       "    </tr>\n",
       "    <tr>\n",
       "      <th>2</th>\n",
       "      <td>D3</td>\n",
       "      <td>Overcast</td>\n",
       "      <td>Hot</td>\n",
       "      <td>High</td>\n",
       "      <td>Weak</td>\n",
       "      <td>Yes</td>\n",
       "    </tr>\n",
       "    <tr>\n",
       "      <th>3</th>\n",
       "      <td>D4</td>\n",
       "      <td>Rain</td>\n",
       "      <td>Mild</td>\n",
       "      <td>High</td>\n",
       "      <td>Weak</td>\n",
       "      <td>Yes</td>\n",
       "    </tr>\n",
       "    <tr>\n",
       "      <th>4</th>\n",
       "      <td>D5</td>\n",
       "      <td>Rain</td>\n",
       "      <td>Cool</td>\n",
       "      <td>Normal</td>\n",
       "      <td>Weak</td>\n",
       "      <td>Yes</td>\n",
       "    </tr>\n",
       "  </tbody>\n",
       "</table>\n",
       "</div>"
      ],
      "text/plain": [
       "  day   outlook  temp humidity    wind play\n",
       "0  D1     Sunny   Hot     High    Weak   No\n",
       "1  D2     Sunny   Hot     High  Strong   No\n",
       "2  D3  Overcast   Hot     High    Weak  Yes\n",
       "3  D4      Rain  Mild     High    Weak  Yes\n",
       "4  D5      Rain  Cool   Normal    Weak  Yes"
      ]
     },
     "execution_count": 8,
     "metadata": {},
     "output_type": "execute_result"
    }
   ],
   "source": [
    "data=pd.read_csv('play_tennis.csv')\n",
    "data.head()"
   ]
  },
  {
   "cell_type": "code",
   "execution_count": 9,
   "id": "b3cedef4",
   "metadata": {},
   "outputs": [],
   "source": [
    "def calculate_probabilities(data, target_attribute):\n",
    "    probabilities = {}\n",
    "    total_count = len(data)\n",
    "    for value in set(data[target_attribute]):\n",
    "        value_count = (data[target_attribute] == value).sum()\n",
    "        probabilities[value] = value_count / total_count\n",
    "\n",
    "    return probabilities\n"
   ]
  },
  {
   "cell_type": "code",
   "execution_count": 10,
   "id": "b504c476",
   "metadata": {},
   "outputs": [],
   "source": [
    "def calculate_conditional_probabilities(data, target_attribute, condition_attribute, condition_value):\n",
    "    conditional_probabilities = {}\n",
    "    total_count = len(data)\n",
    "    for target_value in set(data[target_attribute]):\n",
    "        target_value_count = (data[target_attribute] == target_value).sum()\n",
    "        condition_value_count = ((data[target_attribute] == target_value) & (data[condition_attribute] == condition_value)).sum()\n",
    "        conditional_probabilities[(target_value, condition_value)] = condition_value_count / target_value_count\n",
    "    return conditional_probabilities\n"
   ]
  },
  {
   "cell_type": "code",
   "execution_count": 11,
   "id": "c87840df",
   "metadata": {},
   "outputs": [],
   "source": [
    "play_probabilities = calculate_probabilities(data, 'play')\n",
    "\n",
    "outlook_probabilities = calculate_conditional_probabilities(data, 'play', 'outlook', 'Rain')\n",
    "temperature_probabilities = calculate_conditional_probabilities(data, 'play', 'temp', 'Hot')\n",
    "humidity_probabilities = calculate_conditional_probabilities(data, 'play', 'humidity', 'Normal')\n",
    "wind_probabilities = calculate_conditional_probabilities(data, 'play', 'wind', 'Strong')\n",
    "\n",
    "new_instance = {'outlook': 'Rain', 'temp': 'Hot', 'humidity': 'Normal', 'wind': 'Strong'}\n"
   ]
  },
  {
   "cell_type": "code",
   "execution_count": 13,
   "id": "f7b64c9e",
   "metadata": {},
   "outputs": [],
   "source": [
    "play_yes_probability = play_probabilities['Yes'] * outlook_probabilities[('Yes', new_instance['outlook'])] * temperature_probabilities[('Yes', new_instance['temp'])] * humidity_probabilities[('Yes', new_instance['humidity'])] * wind_probabilities[('Yes', new_instance['wind'])]"
   ]
  },
  {
   "cell_type": "code",
   "execution_count": 14,
   "id": "9effa7da",
   "metadata": {},
   "outputs": [],
   "source": [
    "play_no_probability = play_probabilities['No'] * outlook_probabilities[('No', new_instance['outlook'])] * temperature_probabilities[('No', new_instance['temp'])] * humidity_probabilities[('No', new_instance['humidity'])] * wind_probabilities[('No', new_instance['wind'])]\n"
   ]
  },
  {
   "cell_type": "code",
   "execution_count": 15,
   "id": "53c167c6",
   "metadata": {},
   "outputs": [],
   "source": [
    "prediction = f'Yes with the accuracy of {play_yes_probability}' if play_yes_probability > play_no_probability else f'No with the accuracy of {play_no_probability}'"
   ]
  },
  {
   "cell_type": "code",
   "execution_count": 16,
   "id": "b9d82b7c",
   "metadata": {},
   "outputs": [
    {
     "name": "stdout",
     "output_type": "stream",
     "text": [
      "The predicted outcome for the new instance is: Yes with the accuracy of 0.010582010582010581\n"
     ]
    }
   ],
   "source": [
    "print(f\"The predicted outcome for the new instance is: {prediction}\")"
   ]
  },
  {
   "cell_type": "code",
   "execution_count": null,
   "id": "a11eaa36",
   "metadata": {},
   "outputs": [],
   "source": []
  }
 ],
 "metadata": {
  "kernelspec": {
   "display_name": "Python 3 (ipykernel)",
   "language": "python",
   "name": "python3"
  },
  "language_info": {
   "codemirror_mode": {
    "name": "ipython",
    "version": 3
   },
   "file_extension": ".py",
   "mimetype": "text/x-python",
   "name": "python",
   "nbconvert_exporter": "python",
   "pygments_lexer": "ipython3",
   "version": "3.9.17"
  }
 },
 "nbformat": 4,
 "nbformat_minor": 5
}
